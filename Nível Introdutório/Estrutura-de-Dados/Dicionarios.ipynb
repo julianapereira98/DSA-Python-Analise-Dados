{
 "cells": [
  {
   "cell_type": "markdown",
   "id": "741a6729",
   "metadata": {},
   "source": [
    "# Dicionários"
   ]
  },
  {
   "cell_type": "code",
   "execution_count": 6,
   "id": "97e1dd8d",
   "metadata": {},
   "outputs": [
    {
     "data": {
      "text/plain": [
       "{'Pedro': 24, 'Ana': 25}"
      ]
     },
     "execution_count": 6,
     "metadata": {},
     "output_type": "execute_result"
    }
   ],
   "source": [
    "# Criação de dicionário\n",
    "estudantes = {'Pedro': 24, 'Ana': 25}\n",
    "estudantes"
   ]
  },
  {
   "cell_type": "code",
   "execution_count": 7,
   "id": "02151c65",
   "metadata": {},
   "outputs": [
    {
     "data": {
      "text/plain": [
       "{'Pedro': 24, 'Ana': 25, 'Marcelo': 30}"
      ]
     },
     "execution_count": 7,
     "metadata": {},
     "output_type": "execute_result"
    }
   ],
   "source": [
    "#inclusão de nova chave com valor\n",
    "estudantes['Marcelo'] = 30\n",
    "estudantes"
   ]
  },
  {
   "cell_type": "code",
   "execution_count": 4,
   "id": "5ad8ef1c",
   "metadata": {},
   "outputs": [
    {
     "data": {
      "text/plain": [
       "{}"
      ]
     },
     "execution_count": 4,
     "metadata": {},
     "output_type": "execute_result"
    }
   ],
   "source": [
    "# limpa os dados do dicionário\n",
    "estudantes.clear()\n",
    "estudantes"
   ]
  },
  {
   "cell_type": "code",
   "execution_count": 5,
   "id": "37b6c5af",
   "metadata": {},
   "outputs": [
    {
     "ename": "NameError",
     "evalue": "name 'estudantes' is not defined",
     "output_type": "error",
     "traceback": [
      "\u001b[0;31m---------------------------------------------------------------------------\u001b[0m",
      "\u001b[0;31mNameError\u001b[0m                                 Traceback (most recent call last)",
      "\u001b[0;32m/tmp/ipykernel_56776/446231422.py\u001b[0m in \u001b[0;36m<module>\u001b[0;34m\u001b[0m\n\u001b[1;32m      1\u001b[0m \u001b[0;31m# apaga o dicionário\u001b[0m\u001b[0;34m\u001b[0m\u001b[0;34m\u001b[0m\u001b[0m\n\u001b[1;32m      2\u001b[0m \u001b[0;32mdel\u001b[0m \u001b[0mestudantes\u001b[0m\u001b[0;34m\u001b[0m\u001b[0;34m\u001b[0m\u001b[0m\n\u001b[0;32m----> 3\u001b[0;31m \u001b[0mestudantes\u001b[0m\u001b[0;34m\u001b[0m\u001b[0;34m\u001b[0m\u001b[0m\n\u001b[0m",
      "\u001b[0;31mNameError\u001b[0m: name 'estudantes' is not defined"
     ]
    }
   ],
   "source": [
    "# apaga o dicionário\n",
    "del estudantes\n",
    "estudantes"
   ]
  },
  {
   "cell_type": "code",
   "execution_count": 8,
   "id": "48db866c",
   "metadata": {},
   "outputs": [
    {
     "data": {
      "text/plain": [
       "3"
      ]
     },
     "execution_count": 8,
     "metadata": {},
     "output_type": "execute_result"
    }
   ],
   "source": [
    "# tamanho do dicionário\n",
    "len(estudantes)"
   ]
  },
  {
   "cell_type": "code",
   "execution_count": 9,
   "id": "1d7e3c98",
   "metadata": {},
   "outputs": [
    {
     "data": {
      "text/plain": [
       "dict_keys(['Pedro', 'Ana', 'Marcelo'])"
      ]
     },
     "execution_count": 9,
     "metadata": {},
     "output_type": "execute_result"
    }
   ],
   "source": [
    "# retorna somente as chaves\n",
    "estudantes.keys()"
   ]
  },
  {
   "cell_type": "code",
   "execution_count": 10,
   "id": "1f4045f1",
   "metadata": {},
   "outputs": [
    {
     "data": {
      "text/plain": [
       "dict_values([24, 25, 30])"
      ]
     },
     "execution_count": 10,
     "metadata": {},
     "output_type": "execute_result"
    }
   ],
   "source": [
    "# retorna somente os valores\n",
    "estudantes.values()"
   ]
  },
  {
   "cell_type": "code",
   "execution_count": 11,
   "id": "4c42b6b8",
   "metadata": {},
   "outputs": [
    {
     "data": {
      "text/plain": [
       "dict_items([('Pedro', 24), ('Ana', 25), ('Marcelo', 30)])"
      ]
     },
     "execution_count": 11,
     "metadata": {},
     "output_type": "execute_result"
    }
   ],
   "source": [
    "# retorna os itens\n",
    "estudantes.items()"
   ]
  },
  {
   "cell_type": "code",
   "execution_count": 12,
   "id": "e817cf07",
   "metadata": {},
   "outputs": [],
   "source": [
    "estudantes2 = {'Camila':27, 'Adriana':28, 'Roberta':26}"
   ]
  },
  {
   "cell_type": "code",
   "execution_count": 13,
   "id": "dba1e428",
   "metadata": {},
   "outputs": [
    {
     "data": {
      "text/plain": [
       "{'Pedro': 24,\n",
       " 'Ana': 25,\n",
       " 'Marcelo': 30,\n",
       " 'Camila': 27,\n",
       " 'Adriana': 28,\n",
       " 'Roberta': 26}"
      ]
     },
     "execution_count": 13,
     "metadata": {},
     "output_type": "execute_result"
    }
   ],
   "source": [
    "# Atualiza o dicionário com novos dados\n",
    "estudantes.update(estudantes2)\n",
    "estudantes"
   ]
  },
  {
   "cell_type": "code",
   "execution_count": 14,
   "id": "9293b1b5",
   "metadata": {},
   "outputs": [
    {
     "data": {
      "text/plain": [
       "{}"
      ]
     },
     "execution_count": 14,
     "metadata": {},
     "output_type": "execute_result"
    }
   ],
   "source": [
    "# criação de dicionário vazio\n",
    "dic1 = {}\n",
    "dic1"
   ]
  },
  {
   "cell_type": "code",
   "execution_count": 15,
   "id": "6aefeee0",
   "metadata": {},
   "outputs": [
    {
     "data": {
      "text/plain": [
       "{'key1': 1000, 'key2': [45, 63, 8, 97], 'key3': ['arroz', 'feijão', 'carne']}"
      ]
     },
     "execution_count": 15,
     "metadata": {},
     "output_type": "execute_result"
    }
   ],
   "source": [
    "# dicionário de listas\n",
    "dict2 = {'key1':1000, 'key2':[45,63,8,97], 'key3':['arroz', 'feijão', 'carne']}\n",
    "dict2"
   ]
  },
  {
   "cell_type": "code",
   "execution_count": 16,
   "id": "71deb2ce",
   "metadata": {},
   "outputs": [
    {
     "data": {
      "text/plain": [
       "'ARROZ'"
      ]
     },
     "execution_count": 16,
     "metadata": {},
     "output_type": "execute_result"
    }
   ],
   "source": [
    "# Acessando item da lista dentro do dicionário\n",
    "dict2['key3'][0].upper()"
   ]
  },
  {
   "cell_type": "code",
   "execution_count": null,
   "id": "25e31d9f",
   "metadata": {},
   "outputs": [],
   "source": []
  }
 ],
 "metadata": {
  "kernelspec": {
   "display_name": "Python 3 (ipykernel)",
   "language": "python",
   "name": "python3"
  },
  "language_info": {
   "codemirror_mode": {
    "name": "ipython",
    "version": 3
   },
   "file_extension": ".py",
   "mimetype": "text/x-python",
   "name": "python",
   "nbconvert_exporter": "python",
   "pygments_lexer": "ipython3",
   "version": "3.9.13"
  }
 },
 "nbformat": 4,
 "nbformat_minor": 5
}
