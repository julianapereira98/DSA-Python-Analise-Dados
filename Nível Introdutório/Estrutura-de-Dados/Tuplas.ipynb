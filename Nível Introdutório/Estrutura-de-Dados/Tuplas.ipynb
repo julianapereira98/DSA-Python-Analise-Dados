{
 "cells": [
  {
   "cell_type": "markdown",
   "id": "4e6779d9",
   "metadata": {},
   "source": [
    "# Tuplas"
   ]
  },
  {
   "cell_type": "code",
   "execution_count": 7,
   "id": "b4adec2d",
   "metadata": {},
   "outputs": [
    {
     "data": {
      "text/plain": [
       "('Geografia', 23, 'Elefante', 9.8)"
      ]
     },
     "execution_count": 7,
     "metadata": {},
     "output_type": "execute_result"
    }
   ],
   "source": [
    "# Criando tupla\n",
    "tupla1 = ('Geografia', 23, 'Elefante', 9.8)\n",
    "tupla1"
   ]
  },
  {
   "cell_type": "markdown",
   "id": "66da1a7c",
   "metadata": {},
   "source": [
    "Tuplas não suportam append, deletes em item específico e nem atribuição de item"
   ]
  },
  {
   "cell_type": "code",
   "execution_count": 2,
   "id": "83cebac9",
   "metadata": {},
   "outputs": [
    {
     "data": {
      "text/plain": [
       "4"
      ]
     },
     "execution_count": 2,
     "metadata": {},
     "output_type": "execute_result"
    }
   ],
   "source": [
    "# verificando o comprimento da tupla\n",
    "len(tupla1)"
   ]
  },
  {
   "cell_type": "code",
   "execution_count": 3,
   "id": "e6d81f82",
   "metadata": {},
   "outputs": [
    {
     "data": {
      "text/plain": [
       "('Geografia', 23)"
      ]
     },
     "execution_count": 3,
     "metadata": {},
     "output_type": "execute_result"
    }
   ],
   "source": [
    "# Slicing\n",
    "tupla1[:2]"
   ]
  },
  {
   "cell_type": "code",
   "execution_count": 5,
   "id": "0d68489f",
   "metadata": {},
   "outputs": [
    {
     "data": {
      "text/plain": [
       "1"
      ]
     },
     "execution_count": 5,
     "metadata": {},
     "output_type": "execute_result"
    }
   ],
   "source": [
    "# vericicando índices\n",
    "tupla1.index(23)"
   ]
  },
  {
   "cell_type": "code",
   "execution_count": 6,
   "id": "b8605fa4",
   "metadata": {},
   "outputs": [],
   "source": [
    "# deletando tuplas\n",
    "del tupla1"
   ]
  },
  {
   "cell_type": "code",
   "execution_count": 10,
   "id": "bda77c3b",
   "metadata": {},
   "outputs": [
    {
     "data": {
      "text/plain": [
       "[1, 2, 3]"
      ]
     },
     "execution_count": 10,
     "metadata": {},
     "output_type": "execute_result"
    }
   ],
   "source": [
    "# conversão de tupla para lista\n",
    "list2 = [1, 2, 3]\n",
    "\n",
    "tupla1 = list(list2)\n",
    "tupla1"
   ]
  },
  {
   "cell_type": "code",
   "execution_count": 11,
   "id": "39de1784",
   "metadata": {},
   "outputs": [
    {
     "data": {
      "text/plain": [
       "(1, 2, 3)"
      ]
     },
     "execution_count": 11,
     "metadata": {},
     "output_type": "execute_result"
    }
   ],
   "source": [
    "list2 = tuple(tupla1)\n",
    "list2"
   ]
  },
  {
   "cell_type": "code",
   "execution_count": null,
   "id": "234bf312",
   "metadata": {},
   "outputs": [],
   "source": []
  }
 ],
 "metadata": {
  "kernelspec": {
   "display_name": "Python 3 (ipykernel)",
   "language": "python",
   "name": "python3"
  },
  "language_info": {
   "codemirror_mode": {
    "name": "ipython",
    "version": 3
   },
   "file_extension": ".py",
   "mimetype": "text/x-python",
   "name": "python",
   "nbconvert_exporter": "python",
   "pygments_lexer": "ipython3",
   "version": "3.9.13"
  }
 },
 "nbformat": 4,
 "nbformat_minor": 5
}
