{
 "cells": [
  {
   "cell_type": "markdown",
   "id": "312b1f4a",
   "metadata": {},
   "source": [
    "# Algoritmo Bubble Sort"
   ]
  },
  {
   "cell_type": "code",
   "execution_count": 1,
   "id": "16484cf6",
   "metadata": {},
   "outputs": [],
   "source": [
    "# Criando um array\n",
    "lista = [7, 9, 4, 5, 2]"
   ]
  },
  {
   "cell_type": "code",
   "execution_count": 2,
   "id": "6896f6ea",
   "metadata": {},
   "outputs": [],
   "source": [
    "def bubble_sort(arr):\n",
    "   \n",
    "    n = len(arr)\n",
    "    \n",
    "    # Para cada elemento i do array\n",
    "    for i in range(n):\n",
    "        \n",
    "        # Para cada elemento j do array\n",
    "        for j in range(0, n-i-1):\n",
    "            \n",
    "            # Se o elemento i for maior que o elemento j\n",
    "            if arr[j] > arr[j+1]:\n",
    "                \n",
    "                #Troque os elementos i e j\n",
    "                arr[j], arr[j+1] = arr[j+1], arr[j]\n",
    "                \n",
    "    return arr                "
   ]
  },
  {
   "cell_type": "code",
   "execution_count": 3,
   "id": "1cfbce61",
   "metadata": {},
   "outputs": [
    {
     "name": "stdout",
     "output_type": "stream",
     "text": [
      "[2, 4, 5, 7, 9]\n"
     ]
    }
   ],
   "source": [
    "print(bubble_sort(lista))"
   ]
  },
  {
   "cell_type": "code",
   "execution_count": null,
   "id": "ed286a3e",
   "metadata": {},
   "outputs": [],
   "source": []
  }
 ],
 "metadata": {
  "kernelspec": {
   "display_name": "Python 3 (ipykernel)",
   "language": "python",
   "name": "python3"
  },
  "language_info": {
   "codemirror_mode": {
    "name": "ipython",
    "version": 3
   },
   "file_extension": ".py",
   "mimetype": "text/x-python",
   "name": "python",
   "nbconvert_exporter": "python",
   "pygments_lexer": "ipython3",
   "version": "3.9.13"
  }
 },
 "nbformat": 4,
 "nbformat_minor": 5
}
