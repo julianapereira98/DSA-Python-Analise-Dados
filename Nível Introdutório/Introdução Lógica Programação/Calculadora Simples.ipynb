{
 "cells": [
  {
   "cell_type": "markdown",
   "id": "92e515c8",
   "metadata": {},
   "source": [
    "# Calculadora Simples"
   ]
  },
  {
   "cell_type": "code",
   "execution_count": 1,
   "id": "db8e45f9",
   "metadata": {},
   "outputs": [
    {
     "name": "stdout",
     "output_type": "stream",
     "text": [
      "Insira o valor do primeiro número: 10\n"
     ]
    }
   ],
   "source": [
    "num1 = float(input('Insira o valor do primeiro número: '))"
   ]
  },
  {
   "cell_type": "code",
   "execution_count": 2,
   "id": "fc72120f",
   "metadata": {},
   "outputs": [
    {
     "name": "stdout",
     "output_type": "stream",
     "text": [
      "Insira o valor do segundo número: 5\n"
     ]
    }
   ],
   "source": [
    "num2 = float(input('Insira o valor do segundo número: '))"
   ]
  },
  {
   "cell_type": "code",
   "execution_count": 4,
   "id": "8a55799c",
   "metadata": {},
   "outputs": [
    {
     "name": "stdout",
     "output_type": "stream",
     "text": [
      "Selecione uma operação (+, -, *, /): +\n"
     ]
    }
   ],
   "source": [
    "operacao = input('Selecione uma operação (+, -, *, /): ')"
   ]
  },
  {
   "cell_type": "code",
   "execution_count": 5,
   "id": "f26cd47e",
   "metadata": {},
   "outputs": [
    {
     "name": "stdout",
     "output_type": "stream",
     "text": [
      "O resultado é:  15.0\n"
     ]
    }
   ],
   "source": [
    "if operacao == '+':\n",
    "    resultado = num1 + num2\n",
    "    print('O resultado é: ', resultado)\n",
    "    \n",
    "elif operacao == '-':\n",
    "    resultado = num1 - num2\n",
    "    print('O resultado é: ', resultado)\n",
    "    \n",
    "elif operacao == '*':\n",
    "    resultado = num1 * num2\n",
    "    print('O resultado é: ', resultado)\n",
    "    \n",
    "elif operacao == '/' && num2 != 0:\n",
    "    resultado = num1 / num2\n",
    "    print('O resultado é: ', resultado)\n",
    "    \n",
    "else:\n",
    "    print('Operação inválida!')"
   ]
  }
 ],
 "metadata": {
  "kernelspec": {
   "display_name": "Python 3 (ipykernel)",
   "language": "python",
   "name": "python3"
  },
  "language_info": {
   "codemirror_mode": {
    "name": "ipython",
    "version": 3
   },
   "file_extension": ".py",
   "mimetype": "text/x-python",
   "name": "python",
   "nbconvert_exporter": "python",
   "pygments_lexer": "ipython3",
   "version": "3.9.13"
  }
 },
 "nbformat": 4,
 "nbformat_minor": 5
}
