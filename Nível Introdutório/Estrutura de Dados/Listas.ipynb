{
 "cells": [
  {
   "cell_type": "markdown",
   "id": "95bca5da",
   "metadata": {},
   "source": [
    "# Listas"
   ]
  },
  {
   "cell_type": "code",
   "execution_count": 5,
   "id": "b8d8cd5b",
   "metadata": {},
   "outputs": [
    {
     "data": {
      "text/plain": [
       "list"
      ]
     },
     "execution_count": 5,
     "metadata": {},
     "output_type": "execute_result"
    }
   ],
   "source": [
    "lista1 = [1, 'arroz', 3]\n",
    "type(lista1)"
   ]
  },
  {
   "cell_type": "code",
   "execution_count": 6,
   "id": "d4f8782a",
   "metadata": {},
   "outputs": [
    {
     "name": "stdout",
     "output_type": "stream",
     "text": [
      "1 arroz\n"
     ]
    }
   ],
   "source": [
    "# Atribuindo cada valor da lista a uma variável\n",
    "item1 = lista1[0]\n",
    "item2 = lista1[1]\n",
    "print(item1, item2)"
   ]
  },
  {
   "cell_type": "code",
   "execution_count": 7,
   "id": "090ca4d0",
   "metadata": {},
   "outputs": [
    {
     "data": {
      "text/plain": [
       "[1, 'arroz', 'feijão']"
      ]
     },
     "execution_count": 7,
     "metadata": {},
     "output_type": "execute_result"
    }
   ],
   "source": [
    "# Atualizando um item da lista\n",
    "lista1[2] = 'feijão'\n",
    "lista1"
   ]
  },
  {
   "cell_type": "code",
   "execution_count": 8,
   "id": "3f2df22f",
   "metadata": {},
   "outputs": [
    {
     "data": {
      "text/plain": [
       "['arroz', 'feijão']"
      ]
     },
     "execution_count": 8,
     "metadata": {},
     "output_type": "execute_result"
    }
   ],
   "source": [
    "# Deletando um item da lista, exclui valores ou objeto da lista usando um índice\n",
    "del lista1[0]\n",
    "lista1"
   ]
  },
  {
   "cell_type": "markdown",
   "id": "1314da9d",
   "metadata": {},
   "source": [
    "## Listas aninhadas"
   ]
  },
  {
   "cell_type": "code",
   "execution_count": 9,
   "id": "47f5e31d",
   "metadata": {},
   "outputs": [
    {
     "data": {
      "text/plain": [
       "[[1, 2, 3], ['arroz', 'feijão']]"
      ]
     },
     "execution_count": 9,
     "metadata": {},
     "output_type": "execute_result"
    }
   ],
   "source": [
    "listas = [[1, 2, 3], lista1]\n",
    "listas"
   ]
  },
  {
   "cell_type": "code",
   "execution_count": 12,
   "id": "a565ee2c",
   "metadata": {},
   "outputs": [],
   "source": [
    "# Atribuindo um item da lista a uma variável\n",
    "a = listas[0]\n",
    "b = a[1]"
   ]
  },
  {
   "cell_type": "code",
   "execution_count": 13,
   "id": "eb305650",
   "metadata": {},
   "outputs": [
    {
     "data": {
      "text/plain": [
       "2"
      ]
     },
     "execution_count": 13,
     "metadata": {},
     "output_type": "execute_result"
    }
   ],
   "source": [
    "b"
   ]
  },
  {
   "cell_type": "code",
   "execution_count": 15,
   "id": "5ef9afc6",
   "metadata": {},
   "outputs": [
    {
     "data": {
      "text/plain": [
       "2"
      ]
     },
     "execution_count": 15,
     "metadata": {},
     "output_type": "execute_result"
    }
   ],
   "source": [
    "listas[0][1]"
   ]
  },
  {
   "cell_type": "code",
   "execution_count": 17,
   "id": "14e2f192",
   "metadata": {},
   "outputs": [
    {
     "data": {
      "text/plain": [
       "6"
      ]
     },
     "execution_count": 17,
     "metadata": {},
     "output_type": "execute_result"
    }
   ],
   "source": [
    "## Operações com Listas\n",
    "c = listas[0][0] + 5\n",
    "c"
   ]
  },
  {
   "cell_type": "code",
   "execution_count": 19,
   "id": "ffb5606b",
   "metadata": {},
   "outputs": [
    {
     "data": {
      "text/plain": [
       "[[1, 2, 3], ['arroz', 'feijão'], 'arroz', 'feijão']"
      ]
     },
     "execution_count": 19,
     "metadata": {},
     "output_type": "execute_result"
    }
   ],
   "source": [
    "# concatenando listas\n",
    "lista_soma = listas + lista1\n",
    "lista_soma"
   ]
  },
  {
   "cell_type": "markdown",
   "id": "019ee7c5",
   "metadata": {},
   "source": [
    "## Operador in"
   ]
  },
  {
   "cell_type": "code",
   "execution_count": 20,
   "id": "30994290",
   "metadata": {},
   "outputs": [
    {
     "data": {
      "text/plain": [
       "True"
      ]
     },
     "execution_count": 20,
     "metadata": {},
     "output_type": "execute_result"
    }
   ],
   "source": [
    "# Verificando se o valor consta na lista\n",
    "'arroz'in lista_soma"
   ]
  },
  {
   "cell_type": "markdown",
   "id": "89194085",
   "metadata": {},
   "source": [
    "## Funções Built-in"
   ]
  },
  {
   "cell_type": "code",
   "execution_count": 21,
   "id": "1bb7d637",
   "metadata": {},
   "outputs": [
    {
     "data": {
      "text/plain": [
       "4"
      ]
     },
     "execution_count": 21,
     "metadata": {},
     "output_type": "execute_result"
    }
   ],
   "source": [
    "# Retorna o comprimento da lista\n",
    "len(lista_soma)"
   ]
  },
  {
   "cell_type": "code",
   "execution_count": 23,
   "id": "d6ae8599",
   "metadata": {},
   "outputs": [
    {
     "data": {
      "text/plain": [
       "3"
      ]
     },
     "execution_count": 23,
     "metadata": {},
     "output_type": "execute_result"
    }
   ],
   "source": [
    "# Retorna o valor máximo\n",
    "max(a)"
   ]
  },
  {
   "cell_type": "code",
   "execution_count": 24,
   "id": "b83f5e25",
   "metadata": {},
   "outputs": [
    {
     "data": {
      "text/plain": [
       "1"
      ]
     },
     "execution_count": 24,
     "metadata": {},
     "output_type": "execute_result"
    }
   ],
   "source": [
    "# Retorna o valor mínimo\n",
    "min(a)"
   ]
  },
  {
   "cell_type": "code",
   "execution_count": 26,
   "id": "7afddc80",
   "metadata": {},
   "outputs": [
    {
     "data": {
      "text/plain": [
       "[1, 2, 3, 4, 4]"
      ]
     },
     "execution_count": 26,
     "metadata": {},
     "output_type": "execute_result"
    }
   ],
   "source": [
    "# Adicionando item na lista ao final da lista\n",
    "a.append(4)\n",
    "a"
   ]
  },
  {
   "cell_type": "code",
   "execution_count": 27,
   "id": "620eacc6",
   "metadata": {},
   "outputs": [
    {
     "data": {
      "text/plain": [
       "2"
      ]
     },
     "execution_count": 27,
     "metadata": {},
     "output_type": "execute_result"
    }
   ],
   "source": [
    "# Conta o número de elementos\n",
    "a.count(4)"
   ]
  },
  {
   "cell_type": "code",
   "execution_count": 28,
   "id": "21007a05",
   "metadata": {},
   "outputs": [
    {
     "data": {
      "text/plain": [
       "[1, 2, 3, 4, 4]"
      ]
     },
     "execution_count": 28,
     "metadata": {},
     "output_type": "execute_result"
    }
   ],
   "source": [
    "# Copiando os itens de uma lista para outra\n",
    "new_list = []\n",
    "\n",
    "for item in a:\n",
    "    new_list.append(item)\n",
    "    \n",
    "new_list"
   ]
  },
  {
   "cell_type": "code",
   "execution_count": 29,
   "id": "4edebb7a",
   "metadata": {},
   "outputs": [
    {
     "data": {
      "text/plain": [
       "[1, 2, 3, 4, 4, 5, 6]"
      ]
     },
     "execution_count": 29,
     "metadata": {},
     "output_type": "execute_result"
    }
   ],
   "source": [
    "# “Mescla” duas listas, fazendo com que passe a existir apenas uma, com todos os elementos\n",
    "new_list.extend([5, 6])\n",
    "new_list"
   ]
  },
  {
   "cell_type": "code",
   "execution_count": 32,
   "id": "3e995287",
   "metadata": {},
   "outputs": [
    {
     "data": {
      "text/plain": [
       "3"
      ]
     },
     "execution_count": 32,
     "metadata": {},
     "output_type": "execute_result"
    }
   ],
   "source": [
    "# Verificando index de um item\n",
    "new_list.index(4)"
   ]
  },
  {
   "cell_type": "code",
   "execution_count": 33,
   "id": "7359581e",
   "metadata": {},
   "outputs": [
    {
     "data": {
      "text/plain": [
       "[1, 2, 10, 3, 4, 4, 5, 6]"
      ]
     },
     "execution_count": 33,
     "metadata": {},
     "output_type": "execute_result"
    }
   ],
   "source": [
    "# Adiciona um item em uma posição X da lista e empurra os itens depois da posição X para “baixo”\n",
    "new_list.insert(2, 10)\n",
    "new_list"
   ]
  },
  {
   "cell_type": "code",
   "execution_count": 34,
   "id": "b1639613",
   "metadata": {},
   "outputs": [
    {
     "data": {
      "text/plain": [
       "[1, 2, 10, 3, 4, 5, 6]"
      ]
     },
     "execution_count": 34,
     "metadata": {},
     "output_type": "execute_result"
    }
   ],
   "source": [
    "# exclui valores ou objeto da lista usando valor\n",
    "new_list.remove(4)\n",
    "new_list"
   ]
  },
  {
   "cell_type": "code",
   "execution_count": 35,
   "id": "2711ca0a",
   "metadata": {},
   "outputs": [
    {
     "data": {
      "text/plain": [
       "[1, 2, 3, 4, 5, 6]"
      ]
     },
     "execution_count": 35,
     "metadata": {},
     "output_type": "execute_result"
    }
   ],
   "source": [
    "# Deletando um item da lista, exclui valores ou objeto da lista usando um índice\n",
    "new_list.pop(2)\n",
    "new_list"
   ]
  },
  {
   "cell_type": "code",
   "execution_count": 36,
   "id": "91a256a2",
   "metadata": {},
   "outputs": [
    {
     "data": {
      "text/plain": [
       "[6, 5, 4, 3, 2, 1]"
      ]
     },
     "execution_count": 36,
     "metadata": {},
     "output_type": "execute_result"
    }
   ],
   "source": [
    "# Reverte a lista\n",
    "new_list.reverse()\n",
    "new_list"
   ]
  },
  {
   "cell_type": "code",
   "execution_count": 37,
   "id": "5c76c1a7",
   "metadata": {},
   "outputs": [
    {
     "data": {
      "text/plain": [
       "[1, 2, 3, 4, 5, 6]"
      ]
     },
     "execution_count": 37,
     "metadata": {},
     "output_type": "execute_result"
    }
   ],
   "source": [
    "# Ordena a lista\n",
    "new_list.sort()\n",
    "new_list"
   ]
  }
 ],
 "metadata": {
  "kernelspec": {
   "display_name": "Python 3 (ipykernel)",
   "language": "python",
   "name": "python3"
  },
  "language_info": {
   "codemirror_mode": {
    "name": "ipython",
    "version": 3
   },
   "file_extension": ".py",
   "mimetype": "text/x-python",
   "name": "python",
   "nbconvert_exporter": "python",
   "pygments_lexer": "ipython3",
   "version": "3.9.13"
  }
 },
 "nbformat": 4,
 "nbformat_minor": 5
}
