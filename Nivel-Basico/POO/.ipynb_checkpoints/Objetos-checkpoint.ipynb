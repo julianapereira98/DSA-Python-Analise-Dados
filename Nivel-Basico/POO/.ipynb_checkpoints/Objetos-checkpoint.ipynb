{
 "cells": [
  {
   "cell_type": "markdown",
   "id": "b0c8fba3",
   "metadata": {},
   "source": [
    "# Manipulando Objetos"
   ]
  },
  {
   "cell_type": "code",
   "execution_count": 4,
   "id": "942733e0",
   "metadata": {},
   "outputs": [],
   "source": [
    "# Criando uma classe\n",
    "class Funcionarios:\n",
    "    \n",
    "    def __init__(self, nome, salario, cargo):\n",
    "        self.nome = nome\n",
    "        self.salario = salario\n",
    "        self.cargo = cargo\n",
    "        \n",
    "    def listFunc(self):\n",
    "        print(\"Funcionário(a) \" + self.nome + \" tem salário de R$\" + str(self.salario) + \" e o cargo é \" + self.cargo)\n",
    "        \n",
    "Func1 = Funcionarios(\"Mary\", 20000, \"Cientista de Dados\")"
   ]
  },
  {
   "cell_type": "code",
   "execution_count": 14,
   "id": "ad89a96f",
   "metadata": {},
   "outputs": [
    {
     "ename": "AttributeError",
     "evalue": "'Funcionarios' object has no attribute 'salario'",
     "output_type": "error",
     "traceback": [
      "\u001b[0;31m---------------------------------------------------------------------------\u001b[0m",
      "\u001b[0;31mAttributeError\u001b[0m                            Traceback (most recent call last)",
      "\u001b[0;32m/tmp/ipykernel_33957/4174492968.py\u001b[0m in \u001b[0;36m<module>\u001b[0;34m\u001b[0m\n\u001b[1;32m      1\u001b[0m \u001b[0;31m# Usando método da classe\u001b[0m\u001b[0;34m\u001b[0m\u001b[0;34m\u001b[0m\u001b[0m\n\u001b[0;32m----> 2\u001b[0;31m \u001b[0mFunc1\u001b[0m\u001b[0;34m.\u001b[0m\u001b[0mlistFunc\u001b[0m\u001b[0;34m(\u001b[0m\u001b[0;34m)\u001b[0m\u001b[0;34m\u001b[0m\u001b[0;34m\u001b[0m\u001b[0m\n\u001b[0m",
      "\u001b[0;32m/tmp/ipykernel_33957/2220768100.py\u001b[0m in \u001b[0;36mlistFunc\u001b[0;34m(self)\u001b[0m\n\u001b[1;32m      8\u001b[0m \u001b[0;34m\u001b[0m\u001b[0m\n\u001b[1;32m      9\u001b[0m     \u001b[0;32mdef\u001b[0m \u001b[0mlistFunc\u001b[0m\u001b[0;34m(\u001b[0m\u001b[0mself\u001b[0m\u001b[0;34m)\u001b[0m\u001b[0;34m:\u001b[0m\u001b[0;34m\u001b[0m\u001b[0;34m\u001b[0m\u001b[0m\n\u001b[0;32m---> 10\u001b[0;31m         \u001b[0mprint\u001b[0m\u001b[0;34m(\u001b[0m\u001b[0;34m\"Funcionário(a) \"\u001b[0m \u001b[0;34m+\u001b[0m \u001b[0mself\u001b[0m\u001b[0;34m.\u001b[0m\u001b[0mnome\u001b[0m \u001b[0;34m+\u001b[0m \u001b[0;34m\" tem salário de R$\"\u001b[0m \u001b[0;34m+\u001b[0m \u001b[0mstr\u001b[0m\u001b[0;34m(\u001b[0m\u001b[0mself\u001b[0m\u001b[0;34m.\u001b[0m\u001b[0msalario\u001b[0m\u001b[0;34m)\u001b[0m \u001b[0;34m+\u001b[0m \u001b[0;34m\" e o cargo é \"\u001b[0m \u001b[0;34m+\u001b[0m \u001b[0mself\u001b[0m\u001b[0;34m.\u001b[0m\u001b[0mcargo\u001b[0m\u001b[0;34m)\u001b[0m\u001b[0;34m\u001b[0m\u001b[0;34m\u001b[0m\u001b[0m\n\u001b[0m\u001b[1;32m     11\u001b[0m \u001b[0;34m\u001b[0m\u001b[0m\n\u001b[1;32m     12\u001b[0m \u001b[0mFunc1\u001b[0m \u001b[0;34m=\u001b[0m \u001b[0mFuncionarios\u001b[0m\u001b[0;34m(\u001b[0m\u001b[0;34m\"Mary\"\u001b[0m\u001b[0;34m,\u001b[0m \u001b[0;36m20000\u001b[0m\u001b[0;34m,\u001b[0m \u001b[0;34m\"Cientista de Dados\"\u001b[0m\u001b[0;34m)\u001b[0m\u001b[0;34m\u001b[0m\u001b[0;34m\u001b[0m\u001b[0m\n",
      "\u001b[0;31mAttributeError\u001b[0m: 'Funcionarios' object has no attribute 'salario'"
     ]
    }
   ],
   "source": [
    "# Usando método da classe\n",
    "Func1.listFunc()"
   ]
  },
  {
   "cell_type": "code",
   "execution_count": 6,
   "id": "e6233041",
   "metadata": {},
   "outputs": [
    {
     "data": {
      "text/plain": [
       "True"
      ]
     },
     "execution_count": 6,
     "metadata": {},
     "output_type": "execute_result"
    }
   ],
   "source": [
    "hasattr(Func1, \"nome\")"
   ]
  },
  {
   "cell_type": "code",
   "execution_count": 7,
   "id": "2eae0640",
   "metadata": {},
   "outputs": [
    {
     "data": {
      "text/plain": [
       "True"
      ]
     },
     "execution_count": 7,
     "metadata": {},
     "output_type": "execute_result"
    }
   ],
   "source": [
    "hasattr(Func1, \"salario\")"
   ]
  },
  {
   "cell_type": "code",
   "execution_count": 9,
   "id": "8b5316c7",
   "metadata": {},
   "outputs": [],
   "source": [
    "setattr(Func1, \"salario\", 4500)"
   ]
  },
  {
   "cell_type": "code",
   "execution_count": 10,
   "id": "8446db37",
   "metadata": {},
   "outputs": [
    {
     "data": {
      "text/plain": [
       "True"
      ]
     },
     "execution_count": 10,
     "metadata": {},
     "output_type": "execute_result"
    }
   ],
   "source": [
    "hasattr(Func1, \"salario\")"
   ]
  },
  {
   "cell_type": "code",
   "execution_count": 11,
   "id": "cc8da552",
   "metadata": {},
   "outputs": [
    {
     "data": {
      "text/plain": [
       "4500"
      ]
     },
     "execution_count": 11,
     "metadata": {},
     "output_type": "execute_result"
    }
   ],
   "source": [
    "getattr(Func1, \"salario\")"
   ]
  },
  {
   "cell_type": "code",
   "execution_count": 12,
   "id": "a2bc7ca3",
   "metadata": {},
   "outputs": [],
   "source": [
    "delattr(Func1, \"salario\")"
   ]
  },
  {
   "cell_type": "code",
   "execution_count": 13,
   "id": "9f67aa58",
   "metadata": {},
   "outputs": [
    {
     "data": {
      "text/plain": [
       "False"
      ]
     },
     "execution_count": 13,
     "metadata": {},
     "output_type": "execute_result"
    }
   ],
   "source": [
    "hasattr(Func1, \"salario\")"
   ]
  },
  {
   "cell_type": "code",
   "execution_count": null,
   "id": "7241de66",
   "metadata": {},
   "outputs": [],
   "source": []
  }
 ],
 "metadata": {
  "kernelspec": {
   "display_name": "Python 3 (ipykernel)",
   "language": "python",
   "name": "python3"
  },
  "language_info": {
   "codemirror_mode": {
    "name": "ipython",
    "version": 3
   },
   "file_extension": ".py",
   "mimetype": "text/x-python",
   "name": "python",
   "nbconvert_exporter": "python",
   "pygments_lexer": "ipython3",
   "version": "3.9.13"
  }
 },
 "nbformat": 4,
 "nbformat_minor": 5
}
