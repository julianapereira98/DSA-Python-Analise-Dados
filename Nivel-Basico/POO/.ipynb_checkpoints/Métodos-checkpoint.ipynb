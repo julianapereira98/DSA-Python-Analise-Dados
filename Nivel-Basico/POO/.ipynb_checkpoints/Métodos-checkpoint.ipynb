{
 "cells": [
  {
   "cell_type": "markdown",
   "id": "4fa093ee",
   "metadata": {},
   "source": [
    "# Métodos de Classes\n",
    "Os métodos de classes são funções definidas dentro de uma classe, que realizam operações específicas em objetos criados a partir dessa classe. Os métodos de classes são usados para implementar o comportamentos dos objetos que pertencem a essa classe.\n",
    "\n",
    "Assim como as funções, os métodos podem receber argumentos e retornar valores. No entanto, o que difere é que os metodos sempre inclem o parâmetro self como primeiro argumento, que é usado para se referir ao objeto atual da classe.\n",
    "\n",
    "O método init é chamado quando um objeto é criado a partir da classe. Este método é usado para inicializar os atributos do objeto."
   ]
  },
  {
   "cell_type": "code",
   "execution_count": 12,
   "id": "4537c31c",
   "metadata": {},
   "outputs": [],
   "source": [
    "# Criando uma classe chamada Circulo\n",
    "class Circulo():\n",
    "    \n",
    "    pi = 3.14\n",
    "    \n",
    "    # Quando um objeto desta classe for criado, este método será executado e o valor default do raio será 5\n",
    "    def __init__(self, raio = 5):\n",
    "        self.raio = raio\n",
    "        \n",
    "    def area(self):\n",
    "        return (self.raio * self.raio) * Circulo.pi\n",
    "    \n",
    "    def setRaio(self, novo_raio):\n",
    "        self.raio = novo_raio\n",
    "        \n",
    "    def getRaio(self):\n",
    "        return self.raio"
   ]
  },
  {
   "cell_type": "code",
   "execution_count": 13,
   "id": "414a031f",
   "metadata": {},
   "outputs": [],
   "source": [
    "# criando o objeto, uma instância da classe Circulo()\n",
    "circ = Circulo()"
   ]
  },
  {
   "cell_type": "code",
   "execution_count": 3,
   "id": "e5b9088d",
   "metadata": {},
   "outputs": [
    {
     "data": {
      "text/plain": [
       "5"
      ]
     },
     "execution_count": 3,
     "metadata": {},
     "output_type": "execute_result"
    }
   ],
   "source": [
    "# Executando um método da classe Circulo\n",
    "circ.getRaio()"
   ]
  },
  {
   "cell_type": "code",
   "execution_count": 4,
   "id": "e9fcf77d",
   "metadata": {},
   "outputs": [],
   "source": [
    "# Criando outro objeto e sobrescrevendo o valor do atributo\n",
    "circ1 = Circulo(7)"
   ]
  },
  {
   "cell_type": "code",
   "execution_count": 5,
   "id": "1cea0e02",
   "metadata": {},
   "outputs": [
    {
     "data": {
      "text/plain": [
       "7"
      ]
     },
     "execution_count": 5,
     "metadata": {},
     "output_type": "execute_result"
    }
   ],
   "source": [
    "circ1.getRaio()"
   ]
  },
  {
   "cell_type": "code",
   "execution_count": 14,
   "id": "d945ddb5",
   "metadata": {},
   "outputs": [
    {
     "name": "stdout",
     "output_type": "stream",
     "text": [
      "O raio é: 5\n"
     ]
    }
   ],
   "source": [
    "# Imprimindo o raio\n",
    "print('O raio é:', circ.getRaio())"
   ]
  },
  {
   "cell_type": "code",
   "execution_count": 15,
   "id": "8023c154",
   "metadata": {},
   "outputs": [
    {
     "name": "stdout",
     "output_type": "stream",
     "text": [
      "A área é: 78.5\n"
     ]
    }
   ],
   "source": [
    "# Imprimindo a área\n",
    "print('A área é:', circ.area())"
   ]
  },
  {
   "cell_type": "code",
   "execution_count": 16,
   "id": "85017ced",
   "metadata": {},
   "outputs": [
    {
     "name": "stdout",
     "output_type": "stream",
     "text": [
      "Novo raio é: 3\n"
     ]
    }
   ],
   "source": [
    "# Gerando novo valor para o raio\n",
    "circ.setRaio(3)\n",
    "print('Novo raio é:', circ.getRaio())"
   ]
  },
  {
   "cell_type": "code",
   "execution_count": null,
   "id": "bf675857",
   "metadata": {},
   "outputs": [],
   "source": []
  }
 ],
 "metadata": {
  "kernelspec": {
   "display_name": "Python 3 (ipykernel)",
   "language": "python",
   "name": "python3"
  },
  "language_info": {
   "codemirror_mode": {
    "name": "ipython",
    "version": 3
   },
   "file_extension": ".py",
   "mimetype": "text/x-python",
   "name": "python",
   "nbconvert_exporter": "python",
   "pygments_lexer": "ipython3",
   "version": "3.9.13"
  }
 },
 "nbformat": 4,
 "nbformat_minor": 5
}
