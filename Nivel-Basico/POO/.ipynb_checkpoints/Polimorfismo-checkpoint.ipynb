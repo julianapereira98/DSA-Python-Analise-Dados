{
 "cells": [
  {
   "cell_type": "markdown",
   "id": "e5f6ca71",
   "metadata": {},
   "source": [
    "# Polimorfismo\n",
    "O polimorfismo permite que objetos de diferentes classes possam ser tratados de forma uniforme. Isso significa que um objeto pode ser tratado como se fosse um objeto de uma superclasse, mesmo que ele seja de uma subclasse.\n",
    "\n",
    "Mais especificamente, o polimorfismo se refere à habilidade de um objeto responder de diferentes formas a uma mesma mensagem. Isso é possível porque as subclasses podem implementar métodos com o mesmo nome que os métodos da superclasse, mas com comportamentos diferentes.\n",
    "\n",
    "Com o polimorfismo, os mesmos atributos e métodos podem ser utilizados em objetos distintos, porém, com implementações lógicas diferentes."
   ]
  },
  {
   "cell_type": "code",
   "execution_count": 1,
   "id": "f0da09a2",
   "metadata": {},
   "outputs": [],
   "source": [
    "# Superclasse\n",
    "class Veiculo():\n",
    "    \n",
    "    def __init__(self, marca, modelo):\n",
    "        self.marca = marca\n",
    "        self.modelo = modelo\n",
    "        \n",
    "    def acelerar(self):\n",
    "        pass\n",
    "    \n",
    "    def frear(self):\n",
    "        pass"
   ]
  },
  {
   "cell_type": "code",
   "execution_count": 2,
   "id": "9fe0446b",
   "metadata": {},
   "outputs": [],
   "source": [
    "# Subclasse\n",
    "class Carro(Veiculo):\n",
    "        \n",
    "    def acelerar(self):\n",
    "        print(\"O carro está acelerando.\")\n",
    "    \n",
    "    def frear(self):\n",
    "        print(\"O carro está freando.\")"
   ]
  },
  {
   "cell_type": "code",
   "execution_count": 3,
   "id": "b93630f1",
   "metadata": {},
   "outputs": [],
   "source": [
    "# Subclasse\n",
    "class Moto(Veiculo):\n",
    "        \n",
    "    def acelerar(self):\n",
    "        print(\"A moto está acelerando.\")\n",
    "    \n",
    "    def frear(self):\n",
    "        print(\"A moto está freando.\")"
   ]
  },
  {
   "cell_type": "code",
   "execution_count": 5,
   "id": "d45fa819",
   "metadata": {},
   "outputs": [],
   "source": [
    "# Subclasse\n",
    "class Aviao(Veiculo):\n",
    "        \n",
    "    def acelerar(self):\n",
    "        print(\"O avião está acelerando.\")\n",
    "    \n",
    "    def frear(self):\n",
    "        print(\"O avião está freando.\")\n",
    "        \n",
    "    def decolar(self):\n",
    "        print(\"O avião está decolando.\")"
   ]
  },
  {
   "cell_type": "code",
   "execution_count": 6,
   "id": "90d17f22",
   "metadata": {},
   "outputs": [],
   "source": [
    "# Cria os objetos\n",
    "lista_veiculos = [Carro(\"Porsche\", \"911 Turbo\"), Moto(\"Honda\", \"CB 1000R Black Edition\"), Aviao(\"Boeing\", \"757\")]"
   ]
  },
  {
   "cell_type": "code",
   "execution_count": 11,
   "id": "d779d6c2",
   "metadata": {},
   "outputs": [
    {
     "name": "stdout",
     "output_type": "stream",
     "text": [
      "O carro está acelerando.\n",
      "O carro está freando.\n",
      "---\n",
      "A moto está acelerando.\n",
      "A moto está freando.\n",
      "---\n",
      "O avião está acelerando.\n",
      "O avião está freando.\n",
      "O avião está decolando.\n",
      "---\n"
     ]
    }
   ],
   "source": [
    "for item in lista_veiculos:\n",
    "    \n",
    "    # o método acelerar tem comportamento diferente dependendo do tipo de objeto\n",
    "    item.acelerar()\n",
    "    \n",
    "    # o método frear tem comportamento diferente dependendo do tipo de objeto\n",
    "    item.frear()\n",
    "    \n",
    "    # Executamos o método decolar somente se o objeto for intância da classe Aviao\n",
    "    if isinstance(item, Aviao):\n",
    "        item.decolar()\n",
    "        \n",
    "    print(\"---\")"
   ]
  },
  {
   "cell_type": "code",
   "execution_count": null,
   "id": "47523efd",
   "metadata": {},
   "outputs": [],
   "source": []
  }
 ],
 "metadata": {
  "kernelspec": {
   "display_name": "Python 3 (ipykernel)",
   "language": "python",
   "name": "python3"
  },
  "language_info": {
   "codemirror_mode": {
    "name": "ipython",
    "version": 3
   },
   "file_extension": ".py",
   "mimetype": "text/x-python",
   "name": "python",
   "nbconvert_exporter": "python",
   "pygments_lexer": "ipython3",
   "version": "3.9.13"
  }
 },
 "nbformat": 4,
 "nbformat_minor": 5
}
