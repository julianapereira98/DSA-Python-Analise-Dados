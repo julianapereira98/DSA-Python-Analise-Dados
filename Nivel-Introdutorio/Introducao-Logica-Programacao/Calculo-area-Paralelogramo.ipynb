{
 "cells": [
  {
   "cell_type": "markdown",
   "id": "cb027470",
   "metadata": {},
   "source": [
    "# Cálculo da área de um paralelogramo"
   ]
  },
  {
   "cell_type": "code",
   "execution_count": 1,
   "id": "49347d59",
   "metadata": {},
   "outputs": [
    {
     "name": "stdout",
     "output_type": "stream",
     "text": [
      "Insira o comprimento da base: 10\n"
     ]
    }
   ],
   "source": [
    "base = float(input('Insira o comprimento da base: '))"
   ]
  },
  {
   "cell_type": "code",
   "execution_count": 2,
   "id": "0973275b",
   "metadata": {},
   "outputs": [
    {
     "name": "stdout",
     "output_type": "stream",
     "text": [
      "Insira a altura: 17\n"
     ]
    }
   ],
   "source": [
    "altura = float(input('Insira a altura: '))"
   ]
  },
  {
   "cell_type": "code",
   "execution_count": 3,
   "id": "e179d64c",
   "metadata": {},
   "outputs": [],
   "source": [
    "area = base * altura"
   ]
  },
  {
   "cell_type": "code",
   "execution_count": 4,
   "id": "88b290c5",
   "metadata": {},
   "outputs": [
    {
     "name": "stdout",
     "output_type": "stream",
     "text": [
      "A área do paralelogramo é:  170.0\n"
     ]
    }
   ],
   "source": [
    "print('A área do paralelogramo é: ', area)"
   ]
  }
 ],
 "metadata": {
  "kernelspec": {
   "display_name": "Python 3 (ipykernel)",
   "language": "python",
   "name": "python3"
  },
  "language_info": {
   "codemirror_mode": {
    "name": "ipython",
    "version": 3
   },
   "file_extension": ".py",
   "mimetype": "text/x-python",
   "name": "python",
   "nbconvert_exporter": "python",
   "pygments_lexer": "ipython3",
   "version": "3.9.13"
  }
 },
 "nbformat": 4,
 "nbformat_minor": 5
}
