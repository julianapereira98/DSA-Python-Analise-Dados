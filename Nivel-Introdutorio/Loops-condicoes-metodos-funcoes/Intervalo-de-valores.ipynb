{
 "cells": [
  {
   "cell_type": "markdown",
   "id": "3d12425b",
   "metadata": {},
   "source": [
    "# Intervalo de valores"
   ]
  },
  {
   "cell_type": "code",
   "execution_count": 1,
   "id": "b2068932",
   "metadata": {
    "scrolled": true
   },
   "outputs": [
    {
     "name": "stdout",
     "output_type": "stream",
     "text": [
      "1\n",
      "2\n",
      "3\n",
      "4\n",
      "5\n",
      "6\n",
      "7\n",
      "8\n",
      "9\n",
      "10\n"
     ]
    }
   ],
   "source": [
    "# imprimindo números de 1 a 10\n",
    "for i in range(1, 11):\n",
    "    print(i)"
   ]
  },
  {
   "cell_type": "code",
   "execution_count": 2,
   "id": "91c7c96b",
   "metadata": {},
   "outputs": [
    {
     "name": "stdout",
     "output_type": "stream",
     "text": [
      "50\n",
      "52\n",
      "54\n",
      "56\n",
      "58\n",
      "60\n",
      "62\n",
      "64\n",
      "66\n",
      "68\n",
      "70\n",
      "72\n",
      "74\n",
      "76\n",
      "78\n",
      "80\n",
      "82\n",
      "84\n",
      "86\n",
      "88\n",
      "90\n",
      "92\n",
      "94\n",
      "96\n",
      "98\n",
      "100\n"
     ]
    }
   ],
   "source": [
    "# imprimindo números pare entre 50 e 101\n",
    "for i in range(50, 101, 2):\n",
    "    print(i)"
   ]
  },
  {
   "cell_type": "code",
   "execution_count": 6,
   "id": "56d61274",
   "metadata": {},
   "outputs": [
    {
     "name": "stdout",
     "output_type": "stream",
     "text": [
      "0\n",
      "-2\n",
      "-4\n",
      "-6\n",
      "-8\n",
      "-10\n",
      "-12\n",
      "-14\n",
      "-16\n",
      "-18\n"
     ]
    }
   ],
   "source": [
    "# imprimindo números pares negativos entre 0 e -20\n",
    "for i in range(0, -20, -2):\n",
    "    print(i)"
   ]
  },
  {
   "cell_type": "code",
   "execution_count": 4,
   "id": "b1fd7061",
   "metadata": {},
   "outputs": [
    {
     "name": "stdout",
     "output_type": "stream",
     "text": [
      "1\n",
      "2\n",
      "3\n",
      "4\n",
      "5\n"
     ]
    }
   ],
   "source": [
    "# Usando o tamano da ista na função range\n",
    "lista = [1,2,3,4,5]\n",
    "lista_tamanho = len(lista)\n",
    "for i in range(0, lista_tamanho):\n",
    "    print(lista[i])"
   ]
  },
  {
   "cell_type": "code",
   "execution_count": null,
   "id": "c4d60423",
   "metadata": {},
   "outputs": [],
   "source": []
  }
 ],
 "metadata": {
  "kernelspec": {
   "display_name": "Python 3 (ipykernel)",
   "language": "python",
   "name": "python3"
  },
  "language_info": {
   "codemirror_mode": {
    "name": "ipython",
    "version": 3
   },
   "file_extension": ".py",
   "mimetype": "text/x-python",
   "name": "python",
   "nbconvert_exporter": "python",
   "pygments_lexer": "ipython3",
   "version": "3.9.13"
  }
 },
 "nbformat": 4,
 "nbformat_minor": 5
}
