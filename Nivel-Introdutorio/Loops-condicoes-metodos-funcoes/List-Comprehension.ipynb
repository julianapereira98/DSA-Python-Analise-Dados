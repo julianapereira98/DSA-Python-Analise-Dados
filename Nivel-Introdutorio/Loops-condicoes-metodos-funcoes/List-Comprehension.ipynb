{
 "cells": [
  {
   "cell_type": "markdown",
   "id": "c45b5449",
   "metadata": {},
   "source": [
    "# List Comprehension\n",
    "\n",
    "[expressão for item in iterable if condição == True]"
   ]
  },
  {
   "cell_type": "code",
   "execution_count": 1,
   "id": "6e5a7694",
   "metadata": {},
   "outputs": [
    {
     "data": {
      "text/plain": [
       "[0, 1, 2, 3, 4, 5, 6, 7, 8, 9]"
      ]
     },
     "execution_count": 1,
     "metadata": {},
     "output_type": "execute_result"
    }
   ],
   "source": [
    "# List comprehension que imprime os números até 10\n",
    "[x for x in range(10)]"
   ]
  },
  {
   "cell_type": "code",
   "execution_count": 2,
   "id": "89ba2a92",
   "metadata": {},
   "outputs": [
    {
     "name": "stdout",
     "output_type": "stream",
     "text": [
      "[0, 1, 2, 3, 4]\n"
     ]
    }
   ],
   "source": [
    "# List comprehension que imprime os números menores que 5 em um intervalo de 1 a 10\n",
    "lista_numeros = [x for x in range(10) if x < 5]\n",
    "print(lista_numeros)"
   ]
  },
  {
   "cell_type": "code",
   "execution_count": 3,
   "id": "4bc925a2",
   "metadata": {},
   "outputs": [
    {
     "data": {
      "text/plain": [
       "['mamão', 'manga']"
      ]
     },
     "execution_count": 3,
     "metadata": {},
     "output_type": "execute_result"
    }
   ],
   "source": [
    "# List comprehension para buscar as palavras com a letra \"m\"\n",
    "lista_frutas = ['banana', 'mamão', 'manga', 'cereja']\n",
    "nova_lista = []\n",
    "\n",
    "nova_lista = [x for x in lista_frutas if \"m\" in x]\n",
    "nova_lista"
   ]
  },
  {
   "cell_type": "code",
   "execution_count": 4,
   "id": "5224564a",
   "metadata": {},
   "outputs": [
    {
     "name": "stdout",
     "output_type": "stream",
     "text": [
      "{'Bob': 68, 'Michel': 84, 'Zico': 57}\n"
     ]
    }
   ],
   "source": [
    "# Dict comprehension\n",
    "\n",
    "dict_alunos = {'Bob': 68, 'Michel': 84, 'Zico': 57}\n",
    "\n",
    "# Criando um novo dicionário imprimindo os pares de chave:valor\n",
    "dict_alunos_status = {k:v for (k, v) in dict_alunos.items()}\n",
    "print(dict_alunos_status)"
   ]
  },
  {
   "cell_type": "code",
   "execution_count": 5,
   "id": "89a2ee25",
   "metadata": {},
   "outputs": [
    {
     "name": "stdout",
     "output_type": "stream",
     "text": [
      "{'Bob': 'Reprovado', 'Michel': 'Aprovado', 'Zico': 'Reprovado'}\n"
     ]
    }
   ],
   "source": [
    "dict_alunos_status = {k: ('Aprovado' if v > 70 else 'Reprovado') for (k, v) in dict_alunos.items()}\n",
    "print(dict_alunos_status)"
   ]
  },
  {
   "cell_type": "code",
   "execution_count": null,
   "id": "6d5a5aee",
   "metadata": {},
   "outputs": [],
   "source": []
  }
 ],
 "metadata": {
  "kernelspec": {
   "display_name": "Python 3 (ipykernel)",
   "language": "python",
   "name": "python3"
  },
  "language_info": {
   "codemirror_mode": {
    "name": "ipython",
    "version": 3
   },
   "file_extension": ".py",
   "mimetype": "text/x-python",
   "name": "python",
   "nbconvert_exporter": "python",
   "pygments_lexer": "ipython3",
   "version": "3.9.13"
  }
 },
 "nbformat": 4,
 "nbformat_minor": 5
}
