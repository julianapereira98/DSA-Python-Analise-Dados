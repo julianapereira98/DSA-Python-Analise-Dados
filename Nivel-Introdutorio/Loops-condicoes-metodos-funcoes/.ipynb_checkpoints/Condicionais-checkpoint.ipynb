{
 "cells": [
  {
   "cell_type": "markdown",
   "id": "8f6af0e3",
   "metadata": {},
   "source": [
    "# Condicionais"
   ]
  },
  {
   "cell_type": "code",
   "execution_count": 1,
   "id": "f4a9cf73",
   "metadata": {},
   "outputs": [
    {
     "name": "stdout",
     "output_type": "stream",
     "text": [
      "A sentença é verdadeira\n"
     ]
    }
   ],
   "source": [
    "# Condicional if\n",
    "if 5 > 2:\n",
    "    print('A sentença é verdadeira')"
   ]
  },
  {
   "cell_type": "code",
   "execution_count": 2,
   "id": "3447ca89",
   "metadata": {},
   "outputs": [
    {
     "name": "stdout",
     "output_type": "stream",
     "text": [
      "A sentença é falsa\n"
     ]
    }
   ],
   "source": [
    "# Condicional if...Else\n",
    "if 5 < 2:\n",
    "    print('A sentença é verdadeira')\n",
    "else:\n",
    "    print('A sentença é falsa')"
   ]
  },
  {
   "cell_type": "code",
   "execution_count": 3,
   "id": "29377413",
   "metadata": {},
   "outputs": [
    {
     "name": "stdout",
     "output_type": "stream",
     "text": [
      "A sentença é falsa\n"
     ]
    }
   ],
   "source": [
    "# Condicional if...Else com variável\n",
    "numero = 3\n",
    "if numero < 2:\n",
    "    print('A sentença é verdadeira')\n",
    "else:\n",
    "    print('A sentença é falsa')"
   ]
  },
  {
   "cell_type": "code",
   "execution_count": 5,
   "id": "1eb225a6",
   "metadata": {},
   "outputs": [
    {
     "name": "stdout",
     "output_type": "stream",
     "text": [
      "Número menor que 5\n"
     ]
    }
   ],
   "source": [
    "# Utilização de elif para validar mais de uma condição\n",
    "numero = 4\n",
    "if numero < 2:\n",
    "    print('Número menor que 2')\n",
    "elif numero < 5:\n",
    "    print('Número menor que 5')\n",
    "else: \n",
    "    print('número inválido')"
   ]
  },
  {
   "cell_type": "markdown",
   "id": "4d0b9376",
   "metadata": {},
   "source": [
    "## Operadores relacionais\n",
    "\n",
    "* Maior que\t>\n",
    "* Menor que\t<\n",
    "* Igual a\t==\n",
    "* Diferente de !=\n",
    "* Maior ou igual a\t>=\n",
    "* Menor ou igual a\t<="
   ]
  },
  {
   "cell_type": "markdown",
   "id": "4e9be206",
   "metadata": {},
   "source": [
    "## Condicionais aninhados"
   ]
  },
  {
   "cell_type": "code",
   "execution_count": 11,
   "id": "d34777bb",
   "metadata": {},
   "outputs": [
    {
     "name": "stdout",
     "output_type": "stream",
     "text": [
      "Ok! Você pode entrar!\n"
     ]
    }
   ],
   "source": [
    "idade = 18\n",
    "nome = 'Bob'\n",
    "\n",
    "if idade > 13:\n",
    "    if nome == 'Bob':\n",
    "        print('Ok! Você pode entrar!')\n",
    "    else:\n",
    "        print('Você não pode entrar!')"
   ]
  },
  {
   "cell_type": "code",
   "execution_count": 12,
   "id": "7498a757",
   "metadata": {},
   "outputs": [
    {
     "name": "stdout",
     "output_type": "stream",
     "text": [
      "Você não pode entrar!\n"
     ]
    }
   ],
   "source": [
    "if nome == 'Bob' and idade < 13:\n",
    "    print('Ok! Você pode entrar!')\n",
    "else:\n",
    "    print('Você não pode entrar!')"
   ]
  },
  {
   "cell_type": "markdown",
   "id": "a257df18",
   "metadata": {},
   "source": [
    "## Operadores lógicos\n",
    "\n",
    "* and - retorna True se ambas as declarações forem verdadeiras\n",
    "* or - retorna True se uma das declarações for verdadeira\n",
    "* not - inverte o resultado, retorna False se o resultado for True e vice-versa"
   ]
  }
 ],
 "metadata": {
  "kernelspec": {
   "display_name": "Python 3 (ipykernel)",
   "language": "python",
   "name": "python3"
  },
  "language_info": {
   "codemirror_mode": {
    "name": "ipython",
    "version": 3
   },
   "file_extension": ".py",
   "mimetype": "text/x-python",
   "name": "python",
   "nbconvert_exporter": "python",
   "pygments_lexer": "ipython3",
   "version": "3.9.13"
  }
 },
 "nbformat": 4,
 "nbformat_minor": 5
}
