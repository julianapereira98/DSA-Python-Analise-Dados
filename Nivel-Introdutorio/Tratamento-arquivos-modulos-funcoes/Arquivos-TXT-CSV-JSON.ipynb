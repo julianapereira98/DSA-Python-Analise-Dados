{
 "cells": [
  {
   "cell_type": "markdown",
   "id": "988289ea",
   "metadata": {},
   "source": [
    "# Manipulando arquivos TXT"
   ]
  },
  {
   "cell_type": "code",
   "execution_count": 6,
   "id": "31a80a8b",
   "metadata": {},
   "outputs": [],
   "source": [
    "texto = 'Cientista de Dados pode ser uma excelente alternativa de carreira.\\n'\n",
    "texto += 'Esses profissionais precisam saber como programar em Python.\\n'\n",
    "texto += 'E, claro, devem ser proficientes em Data Science.'"
   ]
  },
  {
   "cell_type": "code",
   "execution_count": 7,
   "id": "710a0294",
   "metadata": {},
   "outputs": [
    {
     "name": "stdout",
     "output_type": "stream",
     "text": [
      "Cientista de Dados pode ser uma excelente alternativa de carreira.\n",
      "Esses profissionais precisam saber como programar em Python.\n",
      "E, claro, devem ser proficientes em Data Science.\n"
     ]
    }
   ],
   "source": [
    "print(texto)"
   ]
  },
  {
   "cell_type": "code",
   "execution_count": 8,
   "id": "84986a4f",
   "metadata": {},
   "outputs": [],
   "source": [
    "import os"
   ]
  },
  {
   "cell_type": "code",
   "execution_count": 10,
   "id": "ac93ead8",
   "metadata": {},
   "outputs": [],
   "source": [
    "# Criando um arquivo\n",
    "arquivo = open(os.path.join('arquivos/cientista.txt'), 'w')"
   ]
  },
  {
   "cell_type": "code",
   "execution_count": 11,
   "id": "3b8da389",
   "metadata": {},
   "outputs": [],
   "source": [
    "# Gravando os dados no arquivo\n",
    "for palavra in texto.split():\n",
    "    arquivo.write(palavra + ' ')\n",
    "\n",
    "arquivo.close()"
   ]
  },
  {
   "cell_type": "code",
   "execution_count": 14,
   "id": "efd8db5b",
   "metadata": {},
   "outputs": [
    {
     "name": "stdout",
     "output_type": "stream",
     "text": [
      "Cientista de Dados pode ser uma excelente alternativa de carreira. Esses profissionais precisam saber como programar em Python. E, claro, devem ser proficientes em Data Science. \n"
     ]
    }
   ],
   "source": [
    "# Lendo o arquivo\n",
    "arquivo = open('arquivos/cientista.txt', 'r')\n",
    "conteudo = arquivo.read()\n",
    "arquivo.close()\n",
    "\n",
    "print(conteudo)"
   ]
  },
  {
   "cell_type": "markdown",
   "id": "2b6b7a08",
   "metadata": {},
   "source": [
    "## Usando a expressão with\n",
    "\n",
    "O método close() é executado automaticamente."
   ]
  },
  {
   "cell_type": "code",
   "execution_count": 15,
   "id": "d09c481e",
   "metadata": {},
   "outputs": [
    {
     "name": "stdout",
     "output_type": "stream",
     "text": [
      "178\n"
     ]
    }
   ],
   "source": [
    "with open('arquivos/cientista.txt', 'r') as arquivo:\n",
    "    conteudo = arquivo.read()\n",
    "    \n",
    "print(len(conteudo))"
   ]
  },
  {
   "cell_type": "code",
   "execution_count": 16,
   "id": "8e280174",
   "metadata": {},
   "outputs": [
    {
     "name": "stdout",
     "output_type": "stream",
     "text": [
      "Cientista de Dados pode ser uma excelente alternativa de carreira. Esses profissionais precisam saber como programar em Python. E, claro, devem ser proficientes em Data Science. \n"
     ]
    }
   ],
   "source": [
    "print(conteudo)"
   ]
  },
  {
   "cell_type": "code",
   "execution_count": 19,
   "id": "62c425d4",
   "metadata": {},
   "outputs": [],
   "source": [
    "with open('arquivos/cientista.txt', 'w') as arquivo:\n",
    "    arquivo.write(texto[:19])\n",
    "    arquivo.write('\\n')\n",
    "    arquivo.write(texto[28:66])"
   ]
  },
  {
   "cell_type": "code",
   "execution_count": 20,
   "id": "54ce12da",
   "metadata": {},
   "outputs": [
    {
     "name": "stdout",
     "output_type": "stream",
     "text": [
      "Cientista de Dados \n",
      "uma excelente alternativa de carreira.\n"
     ]
    }
   ],
   "source": [
    "arquivo = open('arquivos/cientista.txt', 'r')\n",
    "conteudo = arquivo.read()\n",
    "arquivo.close()\n",
    "print(conteudo)"
   ]
  },
  {
   "cell_type": "markdown",
   "id": "51155a2b",
   "metadata": {},
   "source": [
    "# Manipulando arquivos CSV"
   ]
  },
  {
   "cell_type": "code",
   "execution_count": 1,
   "id": "aabe829c",
   "metadata": {},
   "outputs": [],
   "source": [
    "import csv"
   ]
  },
  {
   "cell_type": "code",
   "execution_count": 2,
   "id": "4393e583",
   "metadata": {},
   "outputs": [],
   "source": [
    "with open('arquivos/numeros.csv', 'w') as arquivo:\n",
    "    writer = csv.writer(arquivo)\n",
    "    \n",
    "    # Grava no arquivo linha a linha\n",
    "    writer.writerow(('nota1', 'nota2', 'nota3'))\n",
    "    writer.writerow((63,87,92))\n",
    "    writer.writerow((61,79,76))\n",
    "    writer.writerow((72,64,91))"
   ]
  },
  {
   "cell_type": "code",
   "execution_count": 3,
   "id": "ecc46772",
   "metadata": {},
   "outputs": [
    {
     "name": "stdout",
     "output_type": "stream",
     "text": [
      "['nota1', 'nota2', 'nota3']\n",
      "['63', '87', '92']\n",
      "['61', '79', '76']\n",
      "['72', '64', '91']\n"
     ]
    }
   ],
   "source": [
    "# Leitura de arquivos csv\n",
    "with open('arquivos/numeros.csv', 'r', encoding='utf8', newline='\\r\\n') as arquivo:\n",
    "    \n",
    "    # cria objeto de leitura\n",
    "    leitor = csv.reader(arquivo)\n",
    "    for x in leitor:\n",
    "        print(x)\n",
    "    "
   ]
  },
  {
   "cell_type": "code",
   "execution_count": 4,
   "id": "605aac21",
   "metadata": {},
   "outputs": [
    {
     "name": "stdout",
     "output_type": "stream",
     "text": [
      "[['nota1', 'nota2', 'nota3'], ['63', '87', '92'], ['61', '79', '76'], ['72', '64', '91']]\n"
     ]
    }
   ],
   "source": [
    "# Gerando uma lista com dados do arquivo csv\n",
    "with open ('arquivos/numeros.csv', 'r') as arquivo:\n",
    "    \n",
    "    # cria objeto de leitura\n",
    "    leitor = csv.reader(arquivo)\n",
    "    dados = list(leitor)\n",
    "    \n",
    "print(dados)"
   ]
  },
  {
   "cell_type": "code",
   "execution_count": 5,
   "id": "47469f2d",
   "metadata": {},
   "outputs": [
    {
     "name": "stdout",
     "output_type": "stream",
     "text": [
      "['63', '87', '92']\n",
      "['61', '79', '76']\n",
      "['72', '64', '91']\n"
     ]
    }
   ],
   "source": [
    "# Imprimindo a partir da segunda linha\n",
    "for linha in dados[1:]:\n",
    "    print(linha)"
   ]
  },
  {
   "cell_type": "markdown",
   "id": "ca03be00",
   "metadata": {},
   "source": [
    "# Manipulando arquivos JSON"
   ]
  },
  {
   "cell_type": "code",
   "execution_count": 6,
   "id": "f28c08ca",
   "metadata": {},
   "outputs": [],
   "source": [
    "# Criando um dicionário\n",
    "dict_guido = {'nome': 'Guido',\n",
    "             'linguagem': 'Python',\n",
    "             'similar': ['c', 'Modula-3', 'lisp'],\n",
    "             'users': 1000000}"
   ]
  },
  {
   "cell_type": "code",
   "execution_count": 7,
   "id": "45b277f3",
   "metadata": {},
   "outputs": [
    {
     "name": "stdout",
     "output_type": "stream",
     "text": [
      "nome Guido\n",
      "linguagem Python\n",
      "similar ['c', 'Modula-3', 'lisp']\n",
      "users 1000000\n"
     ]
    }
   ],
   "source": [
    "for k,v in dict_guido.items():\n",
    "    print(k,v)"
   ]
  },
  {
   "cell_type": "code",
   "execution_count": 8,
   "id": "348657a5",
   "metadata": {},
   "outputs": [
    {
     "data": {
      "text/plain": [
       "'{\"nome\": \"Guido\", \"linguagem\": \"Python\", \"similar\": [\"c\", \"Modula-3\", \"lisp\"], \"users\": 1000000}'"
      ]
     },
     "execution_count": 8,
     "metadata": {},
     "output_type": "execute_result"
    }
   ],
   "source": [
    "import json\n",
    "\n",
    "# Convertendo dicionário para JSON\n",
    "json.dumps(dict_guido)"
   ]
  },
  {
   "cell_type": "code",
   "execution_count": 9,
   "id": "c54048b6",
   "metadata": {},
   "outputs": [],
   "source": [
    "# Criando arquivo JSON\n",
    "with open('arquivos/dados.json', 'w') as arquivo:\n",
    "    arquivo.write(json.dumps(dict_guido))"
   ]
  },
  {
   "cell_type": "code",
   "execution_count": 11,
   "id": "e25dd0a9",
   "metadata": {},
   "outputs": [
    {
     "data": {
      "text/plain": [
       "'Guido'"
      ]
     },
     "execution_count": 11,
     "metadata": {},
     "output_type": "execute_result"
    }
   ],
   "source": [
    "# Leitura de arquivos JSNO\n",
    "with open('arquivos/dados.json', 'r') as arquivo:\n",
    "    texto = arquivo.read()\n",
    "    dados = json.loads(texto)\n",
    "\n",
    "dados['nome']"
   ]
  },
  {
   "cell_type": "markdown",
   "id": "b76cd800",
   "metadata": {},
   "source": [
    "## Extração de arquivos da web"
   ]
  },
  {
   "cell_type": "code",
   "execution_count": 12,
   "id": "17c80f11",
   "metadata": {},
   "outputs": [
    {
     "data": {
      "text/plain": [
       "{'id': 57733101,\n",
       " 'title': 'The Good Man trailer',\n",
       " 'description': 'Trailer for the Manifesto Films production, The Good Man, now available in UK/Ireland/US/Canada/Australia/New Zealand on iTunes (https://itunes.apple.com/us/movie/the-good-man/id873130906) and DVD (http://www.amazon.co.uk/The-Good-Man-Aiden-Gillen/dp/B00IIK6CGU/). Co-production with Jet Black Entertainment (South Africa). Starring Aidan Gillen, Thabang Sidloyi, Kelly Campbell, Lunathi Mampofu. Written & directed by Phil Harrison. More info at www.thegoodmanfilm.com<br />\\r\\n<br />\\r\\nCheck out the Variety Magazine review here: http://www.variety.com/review/VE1117947909/',\n",
       " 'url': 'https://vimeo.com/57733101',\n",
       " 'upload_date': '2013-01-19 04:01:15',\n",
       " 'thumbnail_small': 'http://i.vimeocdn.com/video/436057121-e828a1f5478ec0136e957753d107f2a1268c64def9b82faac37c8e30c031cff2-d_100x75',\n",
       " 'thumbnail_medium': 'http://i.vimeocdn.com/video/436057121-e828a1f5478ec0136e957753d107f2a1268c64def9b82faac37c8e30c031cff2-d_200x150',\n",
       " 'thumbnail_large': 'http://i.vimeocdn.com/video/436057121-e828a1f5478ec0136e957753d107f2a1268c64def9b82faac37c8e30c031cff2-d_640',\n",
       " 'user_id': 1334563,\n",
       " 'user_name': 'Manifesto Films',\n",
       " 'user_url': 'https://vimeo.com/manifestofilms',\n",
       " 'user_portrait_small': 'http://i.vimeocdn.com/portrait/4778306_30x30',\n",
       " 'user_portrait_medium': 'http://i.vimeocdn.com/portrait/4778306_75x75',\n",
       " 'user_portrait_large': 'http://i.vimeocdn.com/portrait/4778306_100x100',\n",
       " 'user_portrait_huge': 'http://i.vimeocdn.com/portrait/4778306_300x300',\n",
       " 'stats_number_of_likes': 17,\n",
       " 'stats_number_of_plays': 6588,\n",
       " 'stats_number_of_comments': 0,\n",
       " 'duration': 143,\n",
       " 'width': 1024,\n",
       " 'height': 576,\n",
       " 'tags': 'belfast, cape town, africa, ireland, film',\n",
       " 'embed_privacy': 'anywhere'}"
      ]
     },
     "execution_count": 12,
     "metadata": {},
     "output_type": "execute_result"
    }
   ],
   "source": [
    "# Imprimindo um arquivo JSON copiado da internet\n",
    "from urllib.request import urlopen\n",
    "\n",
    "response = urlopen('http://vimeo.com/api/v2/video/57733101.json').read().decode('utf8')\n",
    "dados = json.loads(response)[0]\n",
    "dados"
   ]
  },
  {
   "cell_type": "code",
   "execution_count": 13,
   "id": "d9c30082",
   "metadata": {},
   "outputs": [
    {
     "name": "stdout",
     "output_type": "stream",
     "text": [
      "Título:  The Good Man trailer\n",
      "URL:  https://vimeo.com/57733101\n",
      "Duração:  143\n",
      "Número visualizações:  6588\n"
     ]
    }
   ],
   "source": [
    "print('Título: ', dados['title'])\n",
    "print('URL: ', dados['url'])\n",
    "print('Duração: ', dados['duration'])\n",
    "print('Número visualizações: ', dados['stats_number_of_plays'])"
   ]
  },
  {
   "cell_type": "code",
   "execution_count": 14,
   "id": "7567abff",
   "metadata": {},
   "outputs": [],
   "source": [
    "## Copiando conteúdo de um arquivo para outro\n",
    "\n",
    "arquivo_fonte = 'arquivos/dados.json'\n",
    "arquivo_destino = 'arquivos/dados.txt'"
   ]
  },
  {
   "cell_type": "code",
   "execution_count": 15,
   "id": "8f6d0be8",
   "metadata": {},
   "outputs": [],
   "source": [
    "# Método 1\n",
    "with open (arquivo_fonte, 'r') as infile:\n",
    "    text = infile.read()\n",
    "    with open (arquivo_destino, 'w') as outfile:\n",
    "        outfile.write(text)"
   ]
  },
  {
   "cell_type": "code",
   "execution_count": 16,
   "id": "50d27308",
   "metadata": {},
   "outputs": [
    {
     "data": {
      "text/plain": [
       "96"
      ]
     },
     "execution_count": 16,
     "metadata": {},
     "output_type": "execute_result"
    }
   ],
   "source": [
    "# Método 2\n",
    "open(arquivo_destino, 'w').write(open(arquivo_fonte, 'r').read())"
   ]
  },
  {
   "cell_type": "code",
   "execution_count": 20,
   "id": "dcf5567b",
   "metadata": {},
   "outputs": [
    {
     "data": {
      "text/plain": [
       "{'nome': 'Guido',\n",
       " 'linguagem': 'Python',\n",
       " 'similar': ['c', 'Modula-3', 'lisp'],\n",
       " 'users': 1000000}"
      ]
     },
     "execution_count": 20,
     "metadata": {},
     "output_type": "execute_result"
    }
   ],
   "source": [
    "# Leitura do arquivo txt\n",
    "with open('arquivos/dados.txt', 'r') as arquivo:\n",
    "    texto = arquivo.read()\n",
    "    dados = json.loads(texto)\n",
    "    \n",
    "dados"
   ]
  },
  {
   "cell_type": "code",
   "execution_count": null,
   "id": "4578d8c5",
   "metadata": {},
   "outputs": [],
   "source": []
  }
 ],
 "metadata": {
  "kernelspec": {
   "display_name": "Python 3 (ipykernel)",
   "language": "python",
   "name": "python3"
  },
  "language_info": {
   "codemirror_mode": {
    "name": "ipython",
    "version": 3
   },
   "file_extension": ".py",
   "mimetype": "text/x-python",
   "name": "python",
   "nbconvert_exporter": "python",
   "pygments_lexer": "ipython3",
   "version": "3.9.13"
  }
 },
 "nbformat": 4,
 "nbformat_minor": 5
}
