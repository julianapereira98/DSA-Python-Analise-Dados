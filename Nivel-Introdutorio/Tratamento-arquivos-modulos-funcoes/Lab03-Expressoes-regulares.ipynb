{
 "cells": [
  {
   "cell_type": "markdown",
   "id": "8213095d",
   "metadata": {},
   "source": [
    "# Expressões regulares\n",
    "Expressões regulares são padrões usados para combinar ou encontrar ocorrências de sequência de caracteres em uma string. Normalmente, são usadas para manipular strings e relaizar tarefas como validação de dados, extração de informações de strings e substituição de texto.\n",
    "https://docs.python.org/3/library/re.html"
   ]
  },
  {
   "cell_type": "code",
   "execution_count": 1,
   "id": "a789c3e0",
   "metadata": {},
   "outputs": [],
   "source": [
    "import re"
   ]
  },
  {
   "cell_type": "code",
   "execution_count": null,
   "id": "fcacbbdc",
   "metadata": {},
   "outputs": [],
   "source": [
    "texto = 'Meu e-mail é exemplo@gmail.com e você pode me contatar em outro_email@yahoo.com.'\n",
    "\n",
    "# Expressão regular para contar quantas vezes o caracter arroba aparece no texto\n",
    "resultado = len(re.findall('@', texto))\n",
    "\n",
    "print(\"O caracter '@' apareceu \", resultado, \"vezes no texto.\")"
   ]
  },
  {
   "cell_type": "code",
   "execution_count": null,
   "id": "4b207e2b",
   "metadata": {},
   "outputs": [],
   "source": [
    "# Expressão regular para extrais a palavra que aparece após a palavra 'você' em um texto\n",
    "resultado = re.findall(r'você (\\w+)', texto)\n",
    "print(\"A palavra após 'você' é:\" , resultado[0])"
   ]
  },
  {
   "cell_type": "markdown",
   "id": "6f9dadd2",
   "metadata": {},
   "source": [
    "Obs.: O 'r' antes da string é usado para indicar que é uma string literal 'raw'. Isso significa que as barras invertidas não são interpretadas como caracteres de escape, mas são incluídas na expressão regular como parte do padrão."
   ]
  },
  {
   "cell_type": "code",
   "execution_count": null,
   "id": "60ce721f",
   "metadata": {},
   "outputs": [],
   "source": [
    "# Expressão regular para extrair endereços de e-mail de uma string\n",
    "emails = re.findall(r'\\b[A-Za-z0-9._%+-]+@[A-Za-z0-9.-]+\\.[A-Z|a-z]{2,}\\b', texto)\n",
    "print(emails)"
   ]
  },
  {
   "cell_type": "code",
   "execution_count": null,
   "id": "afd3615d",
   "metadata": {},
   "outputs": [],
   "source": [
    "# Extraindo advérbios da frase\n",
    "text = 'o aluno estava incrivelmente perdido, mas encontrou a DSA e rapidamente começçou a aprender.'\n",
    "\n",
    "for m in re.finditer(r'\\w+mente\\b', text):\n",
    "    print('%02d-%02d: %s' % (m.start(), m.end(), m.group(0)))"
   ]
  },
  {
   "cell_type": "markdown",
   "id": "71526b93",
   "metadata": {},
   "source": [
    "# REGEX com ChatGPT"
   ]
  },
  {
   "cell_type": "code",
   "execution_count": 2,
   "id": "60859603",
   "metadata": {},
   "outputs": [],
   "source": [
    "musica = '''Todos os dias quando acordo\n",
    "Não tenho mais\n",
    "O tempo que passou\n",
    "Mas tenho muito tempo\n",
    "Temos todo o tempo do mundo\n",
    "Todos os dias\n",
    "Antes de dormir\n",
    "Lembro e esqueço\n",
    "Como foi o dia\n",
    "Sempre em frente\n",
    "Não temos tempo a perder\n",
    "Nosso suor sagrado\n",
    "É bem mais belo\n",
    "Que esse sangue amargo\n",
    "E tão sério\n",
    "E selvagem! Selvagem!\n",
    "Selvagem!\n",
    "Veja o sol\n",
    "Dessa manhã tão cinza\n",
    "A tempestade que chega\n",
    "É da cor dos teus olhos\n",
    "Castanhos\n",
    "Então me abraça forte\n",
    "E diz mais uma vez\n",
    "Que já estamos\n",
    "Distantes de tudo\n",
    "Temos nosso próprio tempo\n",
    "Temos nosso próprio tempo\n",
    "Temos nosso próprio tempo\n",
    "Não tenho medo do escuro\n",
    "Mas deixe as luzes\n",
    "Acesas agora\n",
    "O que foi escondido\n",
    "É o que se escondeu\n",
    "E o que foi prometido\n",
    "Ninguém prometeu\n",
    "Nem foi tempo perdido\n",
    "Somos tão jovens\n",
    "Tão jovens! Tão jovens!'''"
   ]
  },
  {
   "cell_type": "code",
   "execution_count": 3,
   "id": "70253611",
   "metadata": {},
   "outputs": [
    {
     "name": "stdout",
     "output_type": "stream",
     "text": [
      "O caractere 'a' aparece 39 vezes no texto.\n"
     ]
    }
   ],
   "source": [
    "# 1 - Crie um REGEX para contar quantas vezes o caracter 'a' aparece em todo o texto da música.\n",
    "ocorrencias = len(re.findall(\"a\", musica))\n",
    "print(\"O caractere 'a' aparece\", ocorrencias, \"vezes no texto.\")"
   ]
  },
  {
   "cell_type": "markdown",
   "id": "c91ea7cf",
   "metadata": {},
   "source": [
    "Nota: Observe que a função findall retorna uma lista com todas as ocorrências encontradas na string. O len é usado para contar o número de ocorrências retornadas pela lista."
   ]
  },
  {
   "cell_type": "code",
   "execution_count": 4,
   "id": "cade9504",
   "metadata": {},
   "outputs": [
    {
     "name": "stdout",
     "output_type": "stream",
     "text": [
      "A palavra 'tempo' aparece 8 vezes no texto.\n"
     ]
    }
   ],
   "source": [
    "# 2 - Crie um REGEX em Python para contar quantas vezes a palavra tempo aparece na música.\n",
    "ocorrencias = len(re.findall(r\"\\btempo\\b\", musica))\n",
    "print(\"A palavra 'tempo' aparece\", ocorrencias, \"vezes no texto.\")"
   ]
  },
  {
   "cell_type": "markdown",
   "id": "15358a27",
   "metadata": {},
   "source": [
    "Nota: Observe que usamos \\b para indicar que estamos procurando pela palavra \"tempo\" completa e não apenas por parte dela (por exemplo, \"temporada\" não seria contabilizado)."
   ]
  },
  {
   "cell_type": "code",
   "execution_count": 5,
   "id": "a73332e6",
   "metadata": {},
   "outputs": [
    {
     "name": "stdout",
     "output_type": "stream",
     "text": [
      "Palavras encontradas: ['selvagem!', 'Selvagem!', 'Selvagem!', 'jovens!', 'jovens!']\n"
     ]
    }
   ],
   "source": [
    "# 3 - Crie um REGEX em Python para extrair as palavras seguidas por exclamação.\n",
    "palavras = re.findall(r\"\\w+!\", musica)\n",
    "print(\"Palavras encontradas:\", palavras)"
   ]
  },
  {
   "cell_type": "markdown",
   "id": "0bd05f73",
   "metadata": {},
   "source": [
    "Nota: Essa expressão regular irá procurar por uma ou mais letras, números ou underscore seguidos pelo caractere de exclamação. "
   ]
  },
  {
   "cell_type": "code",
   "execution_count": 6,
   "id": "3be72845",
   "metadata": {},
   "outputs": [
    {
     "name": "stdout",
     "output_type": "stream",
     "text": [
      "Palavras encontradas: ['sangue']\n"
     ]
    }
   ],
   "source": [
    "# 4 - Crie um REGEX que extrai qualquer palavra cujo antecessor seja palavra \"esse\" e o sucessor seja a palavra \"amargo\"\n",
    "palavras = re.findall(r\"(?<=esse )\\w+(?= amargo)\", musica)\n",
    "print(\"Palavras encontradas:\", palavras)"
   ]
  },
  {
   "cell_type": "markdown",
   "id": "bf68a18e",
   "metadata": {},
   "source": [
    "Nota: Essa expressão regular usa \"lookbehind\" e \"lookahead\" para procurar uma palavra que começa imediatamente após \"esse \" (com um espaço em branco depois de \"esse\") e termina imediatamente antes de \" amargo\" (com um espaço em branco antes de \"amargo\")."
   ]
  },
  {
   "cell_type": "code",
   "execution_count": 8,
   "id": "0068f60b",
   "metadata": {},
   "outputs": [
    {
     "name": "stdout",
     "output_type": "stream",
     "text": [
      "As palavras acentuadas são:  ['Nã', 'esqueç', 'Nã', 'tã', 'sé', 'manhã', 'tã', 'Entã', 'abraç', 'já', 'pró', 'pró', 'pró', 'Nã', 'Ningué', 'tã', 'Tã', 'Tã']\n"
     ]
    }
   ],
   "source": [
    "# 5 - Crie um REGEX que retorne as palavras com acento, mas somente os caracteres na palavra que são anteriores \n",
    "# ao caracter com acento.\n",
    "resultado = re.findall(r\"\\b[\\wÀ-ÿ]+[áéíóúãõç]\", musica)\n",
    "print('As palavras acentuadas são: ', resultado)"
   ]
  },
  {
   "cell_type": "code",
   "execution_count": null,
   "id": "1e689e75",
   "metadata": {},
   "outputs": [],
   "source": []
  }
 ],
 "metadata": {
  "kernelspec": {
   "display_name": "Python 3 (ipykernel)",
   "language": "python",
   "name": "python3"
  },
  "language_info": {
   "codemirror_mode": {
    "name": "ipython",
    "version": 3
   },
   "file_extension": ".py",
   "mimetype": "text/x-python",
   "name": "python",
   "nbconvert_exporter": "python",
   "pygments_lexer": "ipython3",
   "version": "3.9.13"
  }
 },
 "nbformat": 4,
 "nbformat_minor": 5
}
