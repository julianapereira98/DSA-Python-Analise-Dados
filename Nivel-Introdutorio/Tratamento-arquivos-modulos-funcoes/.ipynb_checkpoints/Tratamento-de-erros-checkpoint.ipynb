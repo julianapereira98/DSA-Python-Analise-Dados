{
 "cells": [
  {
   "cell_type": "markdown",
   "id": "40fbdbbc",
   "metadata": {},
   "source": [
    "# Tratamento de erros e exceções"
   ]
  },
  {
   "cell_type": "markdown",
   "id": "b75e68e6",
   "metadata": {},
   "source": [
    "## Try, Except, Finally"
   ]
  },
  {
   "cell_type": "code",
   "execution_count": 1,
   "id": "d27910fc",
   "metadata": {},
   "outputs": [
    {
     "name": "stdout",
     "output_type": "stream",
     "text": [
      "Operação não permitida\n"
     ]
    }
   ],
   "source": [
    "# Utilizando try e except\n",
    "try:\n",
    "    8 + 's'\n",
    "except TypeError:\n",
    "    print('Operação não permitida')"
   ]
  },
  {
   "cell_type": "code",
   "execution_count": 3,
   "id": "cc675dff",
   "metadata": {},
   "outputs": [
    {
     "name": "stdout",
     "output_type": "stream",
     "text": [
      "Conteúdo gravado com sucesso!\n"
     ]
    }
   ],
   "source": [
    "# Utilizando try, except e else\n",
    "try:\n",
    "    f = open('arquivos/testandoerros.txt', 'w')\n",
    "    f.write('Gravando no arquivo')\n",
    "except IOErro:\n",
    "    print('Erro: arquivo não encontrado ou não pode ser salvo.')\n",
    "else:\n",
    "    print('Conteúdo gravado com sucesso!')\n",
    "    f.close()\n"
   ]
  },
  {
   "cell_type": "code",
   "execution_count": 7,
   "id": "da0f3698",
   "metadata": {},
   "outputs": [
    {
     "name": "stdout",
     "output_type": "stream",
     "text": [
      "Conteúdo gravado com sucesso!\n"
     ]
    }
   ],
   "source": [
    "# Utilizando try, except e else\n",
    "try:\n",
    "    f = open('arquivos/testandoerros.txt', 'r')\n",
    "except IOError:\n",
    "    print('Erro: arquivo não encontrado ou não pode ser lido.')\n",
    "else:\n",
    "    print('Conteúdo gravado com sucesso!')\n",
    "    f.close()"
   ]
  },
  {
   "cell_type": "code",
   "execution_count": 9,
   "id": "0ed0c9a5",
   "metadata": {},
   "outputs": [
    {
     "name": "stdout",
     "output_type": "stream",
     "text": [
      "Conteúdo gravado com sucesso!\n",
      "Comandos no bloco finally são sempre executados!\n"
     ]
    }
   ],
   "source": [
    "# Utilizando try, except, else e finally\n",
    "try:\n",
    "    f = open('arquivos/testandoerros.txt', 'w')\n",
    "    f.write('Gravando no arquivo')\n",
    "except IOError:\n",
    "    print('Erro: arquivo não encontrado ou não pode ser lido.')\n",
    "else:\n",
    "    print('Conteúdo gravado com sucesso!')\n",
    "    f.close()\n",
    "finally:\n",
    "    print('Comandos no bloco finally são sempre executados!')"
   ]
  },
  {
   "cell_type": "code",
   "execution_count": 11,
   "id": "5d45e798",
   "metadata": {},
   "outputs": [
    {
     "name": "stdout",
     "output_type": "stream",
     "text": [
      "Digite um número: \n",
      "Você não digitou um número!\n",
      "Obrigado!\n"
     ]
    }
   ],
   "source": [
    "def askint():\n",
    "    try:\n",
    "        val = int(input('Digite um número: '))\n",
    "    except:\n",
    "        print('Você não digitou um número!')\n",
    "    finally:\n",
    "        print('Obrigado!')\n",
    "\n",
    "askint()"
   ]
  },
  {
   "cell_type": "code",
   "execution_count": 14,
   "id": "8de94fc3",
   "metadata": {},
   "outputs": [
    {
     "name": "stdout",
     "output_type": "stream",
     "text": [
      "Digite um número: \n",
      "Você não digitou um número!\n",
      "Tente novamente. Digite um número: 4\n",
      "Obrigado!\n",
      "4\n"
     ]
    }
   ],
   "source": [
    "def askint():\n",
    "    try:\n",
    "        val = int((input('Digite um número: ')))\n",
    "    except:\n",
    "        print('Você não digitou um número!')\n",
    "        val = int(input('Tente novamente. Digite um número: '))\n",
    "    finally:\n",
    "        print('Obrigado!')\n",
    "    \n",
    "    print(val)\n",
    "\n",
    "askint()"
   ]
  },
  {
   "cell_type": "code",
   "execution_count": null,
   "id": "6f7ca182",
   "metadata": {},
   "outputs": [
    {
     "name": "stdout",
     "output_type": "stream",
     "text": [
      "Digite um número: \n",
      "Você não digitou um número!\n",
      "Fim da execução!\n",
      "Digite um número: \n",
      "Você não digitou um número!\n",
      "Fim da execução!\n",
      "Digite um número: \n",
      "Você não digitou um número!\n",
      "Fim da execução!\n",
      "Digite um número: \n",
      "Você não digitou um número!\n",
      "Fim da execução!\n",
      "Digite um número: \n",
      "Você não digitou um número!\n",
      "Fim da execução!\n",
      "Digite um número: \n",
      "Você não digitou um número!\n",
      "Fim da execução!\n",
      "Digite um número: \n",
      "Você não digitou um número!\n",
      "Fim da execução!\n"
     ]
    }
   ],
   "source": [
    "def askint():\n",
    "    while True:\n",
    "        try:\n",
    "            val = int(input('Digite um número: '))\n",
    "        except:\n",
    "            print('Você não digitou um número!')\n",
    "            continue\n",
    "        else:\n",
    "            print('Obrigado por digitar um número!')\n",
    "            break\n",
    "        finally:\n",
    "            print('Fim da execução!')\n",
    "        print(val)\n",
    "\n",
    "askint()"
   ]
  },
  {
   "cell_type": "code",
   "execution_count": null,
   "id": "b2278f4b",
   "metadata": {},
   "outputs": [],
   "source": []
  }
 ],
 "metadata": {
  "kernelspec": {
   "display_name": "Python 3 (ipykernel)",
   "language": "python",
   "name": "python3"
  },
  "language_info": {
   "codemirror_mode": {
    "name": "ipython",
    "version": 3
   },
   "file_extension": ".py",
   "mimetype": "text/x-python",
   "name": "python",
   "nbconvert_exporter": "python",
   "pygments_lexer": "ipython3",
   "version": "3.9.13"
  }
 },
 "nbformat": 4,
 "nbformat_minor": 5
}
